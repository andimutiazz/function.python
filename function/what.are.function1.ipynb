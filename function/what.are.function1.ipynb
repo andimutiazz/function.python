{
 "cells": [
  {
   "cell_type": "markdown",
   "metadata": {},
   "source": [
    "# Tubuh Fungsi\n"
   ]
  },
  {
   "cell_type": "code",
   "execution_count": 1,
   "metadata": {},
   "outputs": [],
   "source": [
    "# a collection of instructions\n",
    "# a collection of code\n",
    "\n",
    "def nama_fungsi():\n",
    "    statement1\n",
    "    statement2\n",
    "    statement3\n",
    "    dst"
   ]
  },
  {
   "cell_type": "code",
   "execution_count": 2,
   "metadata": {},
   "outputs": [],
   "source": [
    "def absensi():\n",
    "    pass\n",
    "\n",
    "def isi_sidikJ():\n",
    "    pass\n",
    "\n"
   ]
  },
  {
   "cell_type": "markdown",
   "metadata": {},
   "source": [
    "# Contoh Fungsi"
   ]
  },
  {
   "cell_type": "code",
   "execution_count": 3,
   "metadata": {},
   "outputs": [
    {
     "name": "stdout",
     "output_type": "stream",
     "text": [
      "ini adalah fungsi pertama saya ... !\n",
      "lanjutkan ......\n"
     ]
    }
   ],
   "source": [
    "def Tampil():\n",
    "    print(\"ini adalah fungsi pertama saya ... !\")\n",
    "    print(\"lanjutkan ......\")\n",
    "\n",
    "Tampil()"
   ]
  },
  {
   "cell_type": "code",
   "execution_count": 4,
   "metadata": {},
   "outputs": [
    {
     "name": "stdout",
     "output_type": "stream",
     "text": [
      "nama: desi ratna ningsih\n"
     ]
    }
   ],
   "source": [
    "def nama_saya():\n",
    "    print(\"nama: desi ratna ningsih\")\n",
    "\n",
    "nama_saya()"
   ]
  },
  {
   "cell_type": "code",
   "execution_count": 5,
   "metadata": {},
   "outputs": [],
   "source": [
    "def show():\n",
    "    print(\"show the result\")"
   ]
  },
  {
   "cell_type": "code",
   "execution_count": 6,
   "metadata": {},
   "outputs": [
    {
     "name": "stdout",
     "output_type": "stream",
     "text": [
      "show the result\n"
     ]
    }
   ],
   "source": [
    "show()"
   ]
  },
  {
   "cell_type": "code",
   "execution_count": 7,
   "metadata": {},
   "outputs": [
    {
     "name": "stdout",
     "output_type": "stream",
     "text": [
      "saya suka kucing\n"
     ]
    }
   ],
   "source": [
    "def binatang():\n",
    "    print(\"saya suka kucing\")\n",
    "    \n",
    "binatang()"
   ]
  },
  {
   "cell_type": "code",
   "execution_count": 17,
   "metadata": {},
   "outputs": [],
   "source": [
    "def _D4T401():\n",
    "    print(\"hello\")\n",
    "    "
   ]
  },
  {
   "cell_type": "code",
   "execution_count": 18,
   "metadata": {},
   "outputs": [
    {
     "name": "stdout",
     "output_type": "stream",
     "text": [
      "hello\n"
     ]
    }
   ],
   "source": [
    "_D4T401()"
   ]
  },
  {
   "cell_type": "markdown",
   "metadata": {},
   "source": [
    "### def Data():               \n",
    "### def D4T401():             \n",
    "### def 01_Show()             \n",
    "### def fungsi kuadrat():     \n",
    "### def _deskripsi():         "
   ]
  },
  {
   "cell_type": "markdown",
   "metadata": {},
   "source": [
    "# Memanggil Fungsi"
   ]
  },
  {
   "cell_type": "code",
   "execution_count": 9,
   "metadata": {},
   "outputs": [],
   "source": [
    "Tampil() #memanggil fungsi Tampil"
   ]
  },
  {
   "cell_type": "markdown",
   "metadata": {},
   "source": [
    "# Pendefinisian dan pemanggilan fungsi"
   ]
  },
  {
   "cell_type": "code",
   "execution_count": 4,
   "metadata": {},
   "outputs": [],
   "source": [
    "def Test():\n",
    "    print(\"Tes dicoba, 1 2 3 .... !!!\")\n",
    "    print(\"test berhasil dicoba ... !!!\")\n",
    "    \n",
    "Test() #memanggil nama fungsi"
   ]
  },
  {
   "cell_type": "markdown",
   "metadata": {},
   "source": [
    "# Pemanggilan Fungsi didalam Fungsi"
   ]
  },
  {
   "cell_type": "code",
   "execution_count": 30,
   "metadata": {},
   "outputs": [
    {
     "name": "stdout",
     "output_type": "stream",
     "text": [
      "\n",
      "PROGRAM UNTUK MENGECEK BILANGAN PRIMA\n",
      "---------------------------------------\n"
     ]
    },
    {
     "name": "stdin",
     "output_type": "stream",
     "text": [
      "masukan angka : ! 13\n"
     ]
    },
    {
     "name": "stdout",
     "output_type": "stream",
     "text": [
      "13  adalah bilangan prima\n"
     ]
    },
    {
     "name": "stdin",
     "output_type": "stream",
     "text": [
      "masukan angka : ! 45\n"
     ]
    },
    {
     "name": "stdout",
     "output_type": "stream",
     "text": [
      "45  bukan bilangan prima\n"
     ]
    },
    {
     "name": "stdin",
     "output_type": "stream",
     "text": [
      "masukan angka : ! 1\n"
     ]
    },
    {
     "name": "stdout",
     "output_type": "stream",
     "text": [
      "1  bukan bilangan prima\n"
     ]
    }
   ],
   "source": [
    "def Cek_Prima():\n",
    "    prima=True #deklarasi dan inisialisasi variabel prima\n",
    "    cek=2\n",
    "    data=int(input(\"masukan angka : !\"))\n",
    "    while(cek<data):\n",
    "        if data%cek==0: #mengecek apakah prima atau tidak\n",
    "            prima=False\n",
    "        cek+=1\n",
    "    if prima == True and data>1:\n",
    "        print(data, \" adalah bilangan prima\")\n",
    "    else:\n",
    "        print(data, \" bukan bilangan prima\")\n",
    "        \n",
    "def Utama():\n",
    "    print(\"\\nPROGRAM UNTUK MENGECEK BILANGAN PRIMA\")\n",
    "    print(\"---------------------------------------\")\n",
    "    for i in range(3):\n",
    "        Cek_Prima()\n",
    "        \n",
    "Utama()"
   ]
  },
  {
   "cell_type": "code",
   "execution_count": 10,
   "metadata": {},
   "outputs": [
    {
     "name": "stdout",
     "output_type": "stream",
     "text": [
      "\n",
      "Panggil semua \n",
      "\n",
      "------------------------------\n",
      "halllooo ....., saya fungsi2, panggil fungsi1 dulu ya..\n",
      "hallooo ..., saya fungsi1\n"
     ]
    }
   ],
   "source": [
    "def fungsi1():\n",
    "    print(\"hallooo ..., saya fungsi1\")\n",
    "\n",
    "def fungsi2():\n",
    "    print(\"halllooo ....., saya fungsi2, panggil fungsi1 dulu ya..\")\n",
    "    fungsi1()\n",
    "    \n",
    "def Utama():\n",
    "    print(\"\\nPanggil semua \\n\")\n",
    "    print(\"------------------------------\")\n",
    "    fungsi2()\n",
    "\n",
    "Utama()"
   ]
  },
  {
   "cell_type": "markdown",
   "metadata": {},
   "source": [
    "# Nilai Balik Fungsi"
   ]
  },
  {
   "cell_type": "code",
   "execution_count": 21,
   "metadata": {},
   "outputs": [
    {
     "name": "stdout",
     "output_type": "stream",
     "text": [
      "Hallooo.. ini fungsi pertamaku!!\n",
      "None\n"
     ]
    }
   ],
   "source": [
    "def tampilkan():\n",
    "    print(\"Hallooo.. ini fungsi pertamaku!!\")\n",
    "    \n",
    "# tampilkan()\n",
    "bar = tampilkan()\n",
    "print(bar)"
   ]
  },
  {
   "cell_type": "code",
   "execution_count": 23,
   "metadata": {},
   "outputs": [
    {
     "name": "stdout",
     "output_type": "stream",
     "text": [
      "bunga mawar\n",
      "None\n"
     ]
    }
   ],
   "source": [
    "def bunga():\n",
    "    print(\"bunga mawar\")\n",
    "    \n",
    "panggil = bunga()\n",
    "print(panggil)"
   ]
  },
  {
   "cell_type": "code",
   "execution_count": 25,
   "metadata": {},
   "outputs": [
    {
     "name": "stdout",
     "output_type": "stream",
     "text": [
      "200\n",
      "200\n",
      "['desi', 'ika', 'dina', 'zurni', 100, 20]\n",
      "('kedokteran', 'ekonomi', 'hukum', 'teknik')\n"
     ]
    }
   ],
   "source": [
    "def perkalian():\n",
    "    hasil = 10*20\n",
    "    return hasil\n",
    "\n",
    "def teknik():\n",
    "    a=['desi', 'ika', 'dina', 'zurni', 100, 20]\n",
    "    print(a)\n",
    "    return a\n",
    "\n",
    "def unram():\n",
    "    b=('kedokteran', 'ekonomi', 'hukum', 'teknik')\n",
    "    return b\n",
    "\n",
    "a = perkalian() #menugaskan nilai balik fungsi perkalian pada variabel a\n",
    "print(a) #menampilkan nilai balik melalui a\n",
    "\n",
    "print(perkalian()) #menampilkan nilai balik secara langsung\n",
    "print(teknik())\n",
    "print(unram())"
   ]
  },
  {
   "cell_type": "code",
   "execution_count": 28,
   "metadata": {},
   "outputs": [
    {
     "name": "stdout",
     "output_type": "stream",
     "text": [
      "40\n",
      "['python', 'java', 'IoT', 'frontend']\n"
     ]
    }
   ],
   "source": [
    "def pengurangan():\n",
    "    jumlah = 100-60\n",
    "    return jumlah\n",
    "\n",
    "hasil = pengurangan()\n",
    "print(hasil)\n",
    "\n",
    "def ITEC():\n",
    "    kursus = [\"python\", \"java\", \"IoT\", \"frontend\"]\n",
    "    return kursus\n",
    "\n",
    "hasil1 = ITEC()\n",
    "print(hasil1)"
   ]
  },
  {
   "cell_type": "markdown",
   "metadata": {},
   "source": [
    "# Mendesain Program Menggunakan Fungsi"
   ]
  },
  {
   "cell_type": "code",
   "execution_count": 12,
   "metadata": {},
   "outputs": [
    {
     "name": "stdout",
     "output_type": "stream",
     "text": [
      "\n",
      "------------TEKA-TEKI-----------------\n",
      "----------------------------------------\n"
     ]
    },
    {
     "name": "stdin",
     "output_type": "stream",
     "text": [
      "Tekan Enter untuk memulai petunjuk\n",
      " \n"
     ]
    },
    {
     "name": "stdout",
     "output_type": "stream",
     "text": [
      "1. aku adalah benda mati, yang sangat populer saat ini\n",
      "\n"
     ]
    },
    {
     "name": "stdin",
     "output_type": "stream",
     "text": [
      "Tekan Enter untuk petunjuk selanjutnya\n",
      " \n"
     ]
    },
    {
     "name": "stdout",
     "output_type": "stream",
     "text": [
      "2. aku bisa digunakan untuk menjelajah melalui trowongan kabel kecil\n",
      "\n"
     ]
    },
    {
     "name": "stdin",
     "output_type": "stream",
     "text": [
      "Tekan Enter untuk petunjuk selanjutnya\n",
      " \n"
     ]
    },
    {
     "name": "stdout",
     "output_type": "stream",
     "text": [
      "3. aku bisa mempercepat pekerjaan manusia,.. \n",
      "\n",
      "\n",
      "\n"
     ]
    },
    {
     "name": "stdin",
     "output_type": "stream",
     "text": [
      "siapakah aku :  honda\n"
     ]
    },
    {
     "name": "stdout",
     "output_type": "stream",
     "text": [
      "tebakan anda kurang tepat\n"
     ]
    }
   ],
   "source": [
    "def teka_teki():\n",
    "    print(\"\\n------------TEKA-TEKI-----------------\")\n",
    "    print(\"----------------------------------------\")\n",
    "    input(\"Tekan Enter untuk memulai petunjuk\\n\")\n",
    "    Step1()\n",
    "    input(\"Tekan Enter untuk petunjuk selanjutnya\\n\")\n",
    "    Step2()\n",
    "    input(\"Tekan Enter untuk petunjuk selanjutnya\\n\")\n",
    "    Step3()\n",
    "    print(\"\\n\")\n",
    "    jawaban()\n",
    "    \n",
    "def Step1():\n",
    "    print(\"1. aku adalah benda mati, yang sangat populer saat ini\\n\")\n",
    "    \n",
    "def Step2():\n",
    "    print(\"2. aku bisa digunakan untuk menjelajah melalui trowongan kabel kecil\\n\")\n",
    "\n",
    "def Step3():\n",
    "    print(\"3. aku bisa mempercepat pekerjaan manusia,.. \\n\")\n",
    "    \n",
    "def jawaban():\n",
    "    a=input(\"siapakah aku : \")\n",
    "    \n",
    "    if a==\"komputer\" or a==\"KOMPUTER\" :\n",
    "        print(\"selamat anda benar\")\n",
    "    else:\n",
    "        print(\"tebakan anda kurang tepat\")\n",
    "        \n",
    "teka_teki()"
   ]
  },
  {
   "cell_type": "code",
   "execution_count": null,
   "metadata": {},
   "outputs": [],
   "source": []
  }
 ],
 "metadata": {
  "kernelspec": {
   "display_name": "Python 3 (ipykernel)",
   "language": "python",
   "name": "python3"
  },
  "language_info": {
   "codemirror_mode": {
    "name": "ipython",
    "version": 3
   },
   "file_extension": ".py",
   "mimetype": "text/x-python",
   "name": "python",
   "nbconvert_exporter": "python",
   "pygments_lexer": "ipython3",
   "version": "3.9.12"
  }
 },
 "nbformat": 4,
 "nbformat_minor": 4
}
